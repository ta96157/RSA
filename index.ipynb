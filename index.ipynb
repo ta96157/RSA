{
 "cells": [
  {
   "cell_type": "markdown",
   "metadata": {},
   "source": [
    "# RSA"
   ]
  },
  {
   "cell_type": "code",
   "execution_count": 1,
   "metadata": {},
   "outputs": [],
   "source": [
    "import sympy"
   ]
  },
  {
   "cell_type": "markdown",
   "metadata": {},
   "source": [
    "First we choose two primes, $p$ and $q$:"
   ]
  },
  {
   "cell_type": "code",
   "execution_count": 2,
   "metadata": {},
   "outputs": [
    {
     "name": "stdout",
     "output_type": "stream",
     "text": [
      "p: 2147483647\n",
      "q: 2305843009213693951\n"
     ]
    }
   ],
   "source": [
    "p = (2**31) - 1\n",
    "q = (2**61) - 1\n",
    "print(f'p: {p}')\n",
    "print(f'q: {q}')"
   ]
  },
  {
   "cell_type": "markdown",
   "metadata": {},
   "source": [
    "To make sure you have a prime number, use `isprime`:"
   ]
  },
  {
   "cell_type": "code",
   "execution_count": 3,
   "metadata": {},
   "outputs": [
    {
     "name": "stdout",
     "output_type": "stream",
     "text": [
      "p is prime: True\n",
      "q is prime: True\n"
     ]
    }
   ],
   "source": [
    "print(f'p is prime: {sympy.isprime(p)}')\n",
    "print(f'q is prime: {sympy.isprime(q)}')"
   ]
  },
  {
   "cell_type": "markdown",
   "metadata": {},
   "source": [
    "Next we multiply these to get $n$:"
   ]
  },
  {
   "cell_type": "code",
   "execution_count": 4,
   "metadata": {},
   "outputs": [
    {
     "name": "stdout",
     "output_type": "stream",
     "text": [
      "n: 4951760154835678088235319297\n"
     ]
    }
   ],
   "source": [
    "n = p * q\n",
    "print(f'n: {n}')"
   ]
  },
  {
   "cell_type": "markdown",
   "metadata": {},
   "source": [
    "Then we compute the totient of $n$:"
   ]
  },
  {
   "cell_type": "code",
   "execution_count": 5,
   "metadata": {},
   "outputs": [
    {
     "name": "stdout",
     "output_type": "stream",
     "text": [
      "phi: 4951760152529835076874141700\n"
     ]
    }
   ],
   "source": [
    "phi = sympy.totient(n)\n",
    "print(f'phi: {phi}')"
   ]
  },
  {
   "cell_type": "markdown",
   "metadata": {},
   "source": [
    "Next we choose $e$ so that $e < n$; and $gcf(e, phi(n)) = 1$.  For example, we can choose"
   ]
  },
  {
   "cell_type": "code",
   "execution_count": 6,
   "metadata": {},
   "outputs": [
    {
     "name": "stdout",
     "output_type": "stream",
     "text": [
      "e: 17; gcd: 1\n"
     ]
    }
   ],
   "source": [
    "e = 17\n",
    "gcd = sympy.gcd(e, phi)\n",
    "print(f'e: {e}; gcd: {gcd}')"
   ]
  },
  {
   "cell_type": "markdown",
   "metadata": {},
   "source": [
    "Then we need to find the inverse of $e$ mod $phi(n)$. This value we are looking for is called $d$, and is part of our private key. We use the `mod_inverse` function:"
   ]
  },
  {
   "cell_type": "code",
   "execution_count": 7,
   "metadata": {},
   "outputs": [
    {
     "name": "stdout",
     "output_type": "stream",
     "text": [
      "d: 4077920125612805357425763753\n",
      "check: 1\n"
     ]
    }
   ],
   "source": [
    "d = sympy.mod_inverse(e, phi)\n",
    "print(f'd: {d}')\n",
    "print(f'check: {(d*e)%phi}')"
   ]
  },
  {
   "cell_type": "markdown",
   "metadata": {},
   "source": [
    "Then choose a message, like \"I like math\". Then map this message to ASCII characters, and take that list of numbers and make it into one large number:"
   ]
  },
  {
   "cell_type": "code",
   "execution_count": 8,
   "metadata": {},
   "outputs": [
    {
     "name": "stdout",
     "output_type": "stream",
     "text": [
      "ILIKEMATH, converted to ASCII, then smashed together: 73076073075069077065084072\n"
     ]
    }
   ],
   "source": [
    "m = sum([ 1000**i*ord(x) for i, x in enumerate(reversed(\"ILIKEMATH\")) ])\n",
    "print(f'ILIKEMATH, converted to ASCII, then smashed together: {m}')"
   ]
  },
  {
   "cell_type": "markdown",
   "metadata": {},
   "source": [
    "Now we are ready to encrypt the message. To do this we use the power mod function which take three arguments, the base (m), the exponent (e), and the modulus (n)."
   ]
  },
  {
   "cell_type": "code",
   "execution_count": 9,
   "metadata": {},
   "outputs": [
    {
     "name": "stdout",
     "output_type": "stream",
     "text": [
      "encrypted message: 2289263501494193855939413679\n"
     ]
    }
   ],
   "source": [
    "c = pow(m, e, n)\n",
    "print(f'encrypted message: {c}')"
   ]
  },
  {
   "cell_type": "markdown",
   "metadata": {},
   "source": [
    "Now we have $c$, our enciphered message. To recover our plaintext, we just use the power mod function again, but this time our base is c, the exponent is d, and the modulus is again n. "
   ]
  },
  {
   "cell_type": "code",
   "execution_count": 10,
   "metadata": {},
   "outputs": [
    {
     "name": "stdout",
     "output_type": "stream",
     "text": [
      "decypted message: 73076073075069077065084072\n",
      "does it match?: True\n"
     ]
    }
   ],
   "source": [
    "mcheck = pow(c, d, n)\n",
    "print(f'decypted message: {mcheck}')\n",
    "print(f'does it match?: {m==mcheck}')"
   ]
  },
  {
   "cell_type": "code",
   "execution_count": null,
   "metadata": {},
   "outputs": [],
   "source": []
  }
 ],
 "metadata": {
  "kernelspec": {
   "display_name": "Python 3",
   "language": "python",
   "name": "python3"
  },
  "language_info": {
   "codemirror_mode": {
    "name": "ipython",
    "version": 3
   },
   "file_extension": ".py",
   "mimetype": "text/x-python",
   "name": "python",
   "nbconvert_exporter": "python",
   "pygments_lexer": "ipython3",
   "version": "3.6.9"
  }
 },
 "nbformat": 4,
 "nbformat_minor": 2
}
