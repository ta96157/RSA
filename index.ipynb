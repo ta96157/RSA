{
 "cells": [
  {
   "cell_type": "markdown",
   "metadata": {},
   "source": [
    "# RSA\n",
    "\n",
    "Using this notebook:\n",
    "- Code blocks have dark backgrounds.\n",
    "- You can edit code blocks by clicking inside the block.\n",
    "- You can execute a code block by clicking the \"run\" button (see above), or by pressing Shift+Enter while editing the block.\n",
    "- The order in which code blocks are executed matters.  Normally we run from top to bottom.\n",
    "- The order in which code blocks have been run follows nubmers to the left. For example, the code block with `In [1]` was the first one to be run. \n",
    "\n",
    "Some tips:\n",
    "- To start over and execute all blocks, select Kernel -> Restart & Run All.\n",
    "\n",
    "SAVING YOUR WORK:\n",
    "- To save your work: click on the cloud icon with the downward pointing arrow.\n",
    "- To restore your work: click on the cloud icon with the upward pointing arrow.\n",
    "- If the system says \"connection lost\": save your work, open the URL again, and restore your work."
   ]
  },
  {
   "cell_type": "markdown",
   "metadata": {},
   "source": [
    "## Let's get started\n",
    "\n",
    "We begin by importing the library `sympy`, a Python library for symbolic mathematics."
   ]
  },
  {
   "cell_type": "code",
   "execution_count": 26,
   "metadata": {},
   "outputs": [],
   "source": [
    "import sympy"
   ]
  },
  {
   "cell_type": "markdown",
   "metadata": {},
   "source": [
    "### Public Key Generation\n",
    "\n",
    "The first step in RSA requires that we choose two prime numbers, $p$ and $q$. \n",
    "\n",
    "To do this, typically we would start by generating a prime candidate with the number of desired bits. One way to do this is to randomly generate each bit, and then set the first and last bits to 1. This ensures that the generated number has both:\n",
    "- the number of desired bits (don't want a 0 bit in the position with the highest positional value), and \n",
    "- is an odd number (even numbers are certainly not prime, except for 2 which is special).  \n",
    "\n",
    "Then we need to test if the generated prime candidate is indeed a prime number. This is not straightforward. Typically a first test would check if the prime candidate is divisible by any of the known smaller primes. If it is, then the generated candidate is rejected and we start again.\n",
    "\n",
    "If the prime candidate passes the first test, then a second test is performed. For very large prime candidates, it is impractical to check for divisibility of any prime number less than the candidate (and in fact for extremely large numbers we may not even know all of the prime numbers less than that number). This second test is not certain; it tells us only if the generated candidate is *likely* a prime number. To proceed with the assumption that the generated candidate is prime requires that the test return a high probability that the candidate is indeed prime. (In practice, the tolerance for uncertainty varies depending on the level of security required.)\n",
    "\n",
    "For toy examples, we can instead use theory that tells us how to construct sets of prime numbers. Here we generate two Mersenne primes: prime numbers that have the form $2^n-1$ for some integer $n$. There is a finite list of integer exponents $n$ that will result in Mersenne primes, including $2, 3, 5, 7, 13, 17, 19, 31, \\ldots$. To date there are only 51 Mersenne primes known, but it has been conjectured that there are in fact infinitely many. (Cool huh?)"
   ]
  },
  {
   "cell_type": "code",
   "execution_count": 27,
   "metadata": {},
   "outputs": [
    {
     "name": "stdout",
     "output_type": "stream",
     "text": [
      "p: 2147483647\n",
      "q: 2305843009213693951\n"
     ]
    }
   ],
   "source": [
    "p = (2**31) - 1\n",
    "q = (2**61) - 1\n",
    "print(f'p: {p}')\n",
    "print(f'q: {q}')"
   ]
  },
  {
   "cell_type": "markdown",
   "metadata": {},
   "source": [
    "For these smaller prime numbers, we can use the function `isprime` to make sure that $p$ and $q$ are both prime:"
   ]
  },
  {
   "cell_type": "code",
   "execution_count": 28,
   "metadata": {},
   "outputs": [
    {
     "name": "stdout",
     "output_type": "stream",
     "text": [
      "p is prime: True\n",
      "q is prime: True\n"
     ]
    }
   ],
   "source": [
    "print(f'p is prime: {sympy.isprime(p)}')\n",
    "print(f'q is prime: {sympy.isprime(q)}')"
   ]
  },
  {
   "cell_type": "markdown",
   "metadata": {},
   "source": [
    "Next we multiply $p$ and $q$ these to get $n$:"
   ]
  },
  {
   "cell_type": "code",
   "execution_count": 29,
   "metadata": {},
   "outputs": [
    {
     "name": "stdout",
     "output_type": "stream",
     "text": [
      "n: 4951760154835678088235319297\n"
     ]
    }
   ],
   "source": [
    "n = p * q\n",
    "print(f'n: {n}')"
   ]
  },
  {
   "cell_type": "markdown",
   "metadata": {},
   "source": [
    "Then we compute the totient of $n$, $\\varphi(n)$. Recall that for a prime number $p$, $\\varphi(p)=p-1$ because prime numbers are coprime with all of the $p-1$ positive integers less than themselves. Additionally, $\\varphi(p\\cdot q)=(p-1)\\cdot (q-1)$. This means that since we know that $n= p \\cdot q$ where $p$ and $q$ are prime (by construction), we can easily evaluate the totient of $n$."
   ]
  },
  {
   "cell_type": "code",
   "execution_count": 30,
   "metadata": {},
   "outputs": [
    {
     "name": "stdout",
     "output_type": "stream",
     "text": [
      "phi: 4951760152529835076874141700\n"
     ]
    }
   ],
   "source": [
    "phi = (q-1) * (p-1) # can also use: sympy.totient(n)\n",
    "print(f'phi: {phi}')"
   ]
  },
  {
   "cell_type": "markdown",
   "metadata": {},
   "source": [
    "Next we need to choose an encryption exponent $e$ where: $e \\in \\mathbb{Z}$, $1 < e < n$, and $gcd(e, \\varphi(n)) = 1$. In other words, choose an integer $e$ larger than 1, smaller than $n$, and is coprime with $\\varphi(n)$. \n",
    "\n",
    "Coprimality of $e$ and $\\varphi(n)$ is necessary to ensure the existence of a multiplicative inverse for $e$ in modulo $\\varphi(n)$.\n",
    "\n",
    "A straighforward way to ensure coprimality of $e$ and $\\varphi(n)$ is to choose $e$ to be a prime number such that $1 < e < n$."
   ]
  },
  {
   "cell_type": "code",
   "execution_count": 31,
   "metadata": {
    "scrolled": true
   },
   "outputs": [
    {
     "name": "stdout",
     "output_type": "stream",
     "text": [
      "e: 17; gcd(e, phi): 1\n"
     ]
    }
   ],
   "source": [
    "e = 17\n",
    "gcd = sympy.gcd(e, phi)\n",
    "print(f'e: {e}; gcd(e, phi): {gcd}')"
   ]
  },
  {
   "cell_type": "markdown",
   "metadata": {},
   "source": [
    "Now have our public key pair $\\{e, n\\}$. Share this with anyone, but whatever you do, do not share $p$ and $q$."
   ]
  },
  {
   "cell_type": "code",
   "execution_count": 32,
   "metadata": {},
   "outputs": [
    {
     "name": "stdout",
     "output_type": "stream",
     "text": [
      "Public key pair: {17, 4951760154835678088235319297}\n"
     ]
    }
   ],
   "source": [
    "print(f'Public key pair: {{{e}, {n}}}')"
   ]
  },
  {
   "cell_type": "markdown",
   "metadata": {},
   "source": [
    "### Private Key Generation\n",
    "\n",
    "Computing the private key requires finding the inverse of $e$ mod $\\varphi(n)$. We know this inverses exists, because $e$ was chosen to be coprime with $\\varphi(n)$. In other words, we need to find $d$ such that\n",
    "\n",
    "$e \\cdot d \\equiv 1 \\pmod{\\varphi(n)}$\n",
    "\n",
    "where $e$ and $d$ are both residue classes modulo $\\varphi(n)$ (so $e, d \\in \\{ [0], [1], \\ldots, [ \\varphi(n) - 1]\\}$.\n",
    "\n",
    "If we needed to find this multiplicative inverse by hand we would use the Backwards Euclidean Algorithm. However, here we get the machine to do it for us using the `mod_inverse` function:"
   ]
  },
  {
   "cell_type": "code",
   "execution_count": 33,
   "metadata": {},
   "outputs": [
    {
     "name": "stdout",
     "output_type": "stream",
     "text": [
      "d: 4077920125612805357425763753\n",
      "d*e modulo phi: 1\n"
     ]
    }
   ],
   "source": [
    "d = sympy.mod_inverse(e, phi)\n",
    "print(f'd: {d}')\n",
    "print(f'd*e modulo phi: {(d*e)%phi}')"
   ]
  },
  {
   "cell_type": "markdown",
   "metadata": {},
   "source": [
    "Now have our private key pair $\\{d, n\\}$."
   ]
  },
  {
   "cell_type": "code",
   "execution_count": 34,
   "metadata": {},
   "outputs": [
    {
     "name": "stdout",
     "output_type": "stream",
     "text": [
      "Private key pair: {4077920125612805357425763753, 4951760154835678088235319297}\n"
     ]
    }
   ],
   "source": [
    "print(f'Private key pair: {{{d}, {n}}}')"
   ]
  },
  {
   "cell_type": "markdown",
   "metadata": {},
   "source": [
    "### Encrypt A Message\n",
    "\n",
    "Let's use our public key pair to encrypt a message. Here we will encrypt the message: \"I like math\". First, we map the message characters to ASCII decimal codes. Then we take that vector of ASCII codes and concatenate them to create a large integer version of the message:"
   ]
  },
  {
   "cell_type": "code",
   "execution_count": 35,
   "metadata": {},
   "outputs": [
    {
     "name": "stdout",
     "output_type": "stream",
     "text": [
      "message: I LIKE MATH\n",
      "ascii ordinal version of message: [73, 32, 76, 73, 75, 69, 32, 77, 65, 84, 72]\n",
      "large integer version of message: 7332767375693277658472\n"
     ]
    }
   ],
   "source": [
    "message = \"I LIKE MATH\"\n",
    "ordinal_message = [ ord(c) for c in message ]\n",
    "large_integer_message = sum([ 100**i*o for i, o in enumerate(reversed(ordinal_message)) ])\n",
    "print(f'message: {message}')\n",
    "print(f'ascii ordinal version of message: {ordinal_message}')\n",
    "print(f'large integer version of message: {large_integer_message}')"
   ]
  },
  {
   "cell_type": "markdown",
   "metadata": {},
   "source": [
    "Now we are ready to encrypt the message. To do this we use the power mod function which take three arguments, the base ($x$), the exponent ($e$), and the modulus ($n$) and returns $m^e \\pmod{n}$."
   ]
  },
  {
   "cell_type": "code",
   "execution_count": 36,
   "metadata": {},
   "outputs": [
    {
     "name": "stdout",
     "output_type": "stream",
     "text": [
      "encrypted message: 2079388683330327645114069204\n"
     ]
    }
   ],
   "source": [
    "encrypted_message = pow(large_integer_message, e, n)\n",
    "print(f'encrypted message: {encrypted_message}')"
   ]
  },
  {
   "cell_type": "markdown",
   "metadata": {},
   "source": [
    "Now we have the encrypted message."
   ]
  },
  {
   "cell_type": "markdown",
   "metadata": {},
   "source": [
    "### Decrypt The Message\n",
    "\n",
    "To recover the original plaintext message, we use the power mod function again with the three arguments that are the base ($x$), the exponent ($d$), and the modulus ($n$). This time the base is the encrypted message. "
   ]
  },
  {
   "cell_type": "code",
   "execution_count": 37,
   "metadata": {},
   "outputs": [
    {
     "name": "stdout",
     "output_type": "stream",
     "text": [
      "decrypted message: 7332767375693277658472\n",
      "decrypted integer result equal to large integer message?: True\n"
     ]
    }
   ],
   "source": [
    "decrypted_message = pow(encrypted_message, d, n)\n",
    "print(f'decrypted message: {decrypted_message}')\n",
    "print(f'decrypted integer result equal to large integer message?: {decrypted_message==large_integer_message}')"
   ]
  },
  {
   "cell_type": "markdown",
   "metadata": {},
   "source": [
    "Finally, let's convert the decrypted large integer back into plaintext by splitting the large integer into two-digit numbers, and then look up the corresponding characters for these decimal codes in the ASCII table."
   ]
  },
  {
   "cell_type": "code",
   "execution_count": 38,
   "metadata": {},
   "outputs": [
    {
     "name": "stdout",
     "output_type": "stream",
     "text": [
      "recovered message: I LIKE MATH\n"
     ]
    }
   ],
   "source": [
    "a = decrypted_message\n",
    "ords = []\n",
    "while a:\n",
    "    ords.append(a % 100)\n",
    "    a //= 100\n",
    "recovered_message = ''.join(reversed([ chr(i) for i in ords ]))\n",
    "print(f'recovered message: {recovered_message}')\n"
   ]
  }
 ],
 "metadata": {
  "kernelspec": {
   "display_name": "Python 3",
   "language": "python",
   "name": "python3"
  },
  "language_info": {
   "codemirror_mode": {
    "name": "ipython",
    "version": 3
   },
   "file_extension": ".py",
   "mimetype": "text/x-python",
   "name": "python",
   "nbconvert_exporter": "python",
   "pygments_lexer": "ipython3",
   "version": "3.6.9"
  }
 },
 "nbformat": 4,
 "nbformat_minor": 2
}
