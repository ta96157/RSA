{
 "cells": [
  {
   "cell_type": "markdown",
   "metadata": {},
   "source": [
    "# RSA\n",
    "\n",
    "Using this notebook:\n",
    "- Code blocks have dark backgrounds.\n",
    "- You can edit code blocks by clicking inside the block.\n",
    "- You can execute a code block by clicking the \"run\" button (see above), or by pressing Shift+Enter while editing the block.\n",
    "- The order in which code blocks are executed matters.  Normally we run from top to bottom.\n",
    "- The order in which code blocks have been run follows nubmers to the left. For example, the code block with `In [1]` was the first one to be run. \n",
    "\n",
    "Some tips:\n",
    "- To start over and execute all blocks, select Kernel -> Restart & Run All.\n",
    "\n",
    "SAVING YOUR WORK:\n",
    "- To save your work: click on the cloud icon with the downward pointing arrow.\n",
    "- To restore your work: click on the cloud icon with the upward pointing arrow.\n",
    "- If the system says \"connection lost\": save your work, open the URL again, and restore your work."
   ]
  },
  {
   "cell_type": "code",
   "execution_count": 1,
   "metadata": {},
   "outputs": [],
   "source": [
    "import sympy"
   ]
  },
  {
   "cell_type": "markdown",
   "metadata": {},
   "source": [
    "First we choose two primes, $p$ and $q$:"
   ]
  },
  {
   "cell_type": "code",
   "execution_count": 2,
   "metadata": {},
   "outputs": [
    {
     "name": "stdout",
     "output_type": "stream",
     "text": [
      "p: 2147483647\n",
      "q: 2305843009213693951\n"
     ]
    }
   ],
   "source": [
    "p = (2**31) - 1\n",
    "q = (2**61) - 1\n",
    "print(f'p: {p}')\n",
    "print(f'q: {q}')"
   ]
  },
  {
   "cell_type": "markdown",
   "metadata": {},
   "source": [
    "To make sure you have a prime number, use `isprime`:"
   ]
  },
  {
   "cell_type": "code",
   "execution_count": 3,
   "metadata": {},
   "outputs": [
    {
     "name": "stdout",
     "output_type": "stream",
     "text": [
      "p is prime: True\n",
      "q is prime: True\n"
     ]
    }
   ],
   "source": [
    "print(f'p is prime: {sympy.isprime(p)}')\n",
    "print(f'q is prime: {sympy.isprime(q)}')"
   ]
  },
  {
   "cell_type": "markdown",
   "metadata": {},
   "source": [
    "Next we multiply these to get $n$:"
   ]
  },
  {
   "cell_type": "code",
   "execution_count": 4,
   "metadata": {},
   "outputs": [
    {
     "name": "stdout",
     "output_type": "stream",
     "text": [
      "n: 4951760154835678088235319297\n"
     ]
    }
   ],
   "source": [
    "n = p * q\n",
    "print(f'n: {n}')"
   ]
  },
  {
   "cell_type": "markdown",
   "metadata": {},
   "source": [
    "Then we compute the totient of $n$:"
   ]
  },
  {
   "cell_type": "code",
   "execution_count": 5,
   "metadata": {},
   "outputs": [
    {
     "name": "stdout",
     "output_type": "stream",
     "text": [
      "phi: 4951760152529835076874141700\n"
     ]
    }
   ],
   "source": [
    "phi = (q-1) * (p-1) # can also use: sympy.totient(n)\n",
    "print(f'phi: {phi}')"
   ]
  },
  {
   "cell_type": "markdown",
   "metadata": {},
   "source": [
    "Next we choose $e$ so that $e < n$; and $gcf(e, phi(n)) = 1$.  For example, we can choose"
   ]
  },
  {
   "cell_type": "code",
   "execution_count": 6,
   "metadata": {},
   "outputs": [
    {
     "name": "stdout",
     "output_type": "stream",
     "text": [
      "e: 17; gcd: 1\n"
     ]
    }
   ],
   "source": [
    "e = 17\n",
    "gcd = sympy.gcd(e, phi)\n",
    "print(f'e: {e}; gcd: {gcd}')"
   ]
  },
  {
   "cell_type": "markdown",
   "metadata": {},
   "source": [
    "Then we need to find the inverse of $e$ mod $phi(n)$. This value we are looking for is called $d$, and is part of our private key. We use the `mod_inverse` function:"
   ]
  },
  {
   "cell_type": "code",
   "execution_count": 7,
   "metadata": {},
   "outputs": [
    {
     "name": "stdout",
     "output_type": "stream",
     "text": [
      "d: 4077920125612805357425763753\n",
      "check: 1\n"
     ]
    }
   ],
   "source": [
    "d = sympy.mod_inverse(e, phi)\n",
    "print(f'd: {d}')\n",
    "print(f'check: {(d*e)%phi}')"
   ]
  },
  {
   "cell_type": "markdown",
   "metadata": {},
   "source": [
    "Then choose a message, like \"I like math\". Then map this message to ASCII characters, and take that list of numbers and make it into one large number:"
   ]
  },
  {
   "cell_type": "code",
   "execution_count": 8,
   "metadata": {},
   "outputs": [
    {
     "name": "stdout",
     "output_type": "stream",
     "text": [
      "message: I LIKE MATH\n",
      "ascii ordinal version of message: [73, 32, 76, 73, 75, 69, 32, 77, 65, 84, 72]\n",
      "large integer version of message: 7332767375693277658472\n"
     ]
    }
   ],
   "source": [
    "message = \"I LIKE MATH\"\n",
    "ordinal_message = [ ord(c) for c in message ]\n",
    "large_integer_message = sum([ 100**i*o for i, o in enumerate(reversed(ordinal_message)) ])\n",
    "print(f'message: {message}')\n",
    "print(f'ascii ordinal version of message: {ordinal_message}')\n",
    "print(f'large integer version of message: {large_integer_message}')"
   ]
  },
  {
   "cell_type": "markdown",
   "metadata": {},
   "source": [
    "Now we are ready to encrypt the message. To do this we use the power mod function which take three arguments, the base (m), the exponent (e), and the modulus (n)."
   ]
  },
  {
   "cell_type": "code",
   "execution_count": 9,
   "metadata": {},
   "outputs": [
    {
     "name": "stdout",
     "output_type": "stream",
     "text": [
      "encrypted message: 2079388683330327645114069204\n"
     ]
    }
   ],
   "source": [
    "encrypted_message = pow(large_integer_message, e, n)\n",
    "print(f'encrypted message: {encrypted_message}')"
   ]
  },
  {
   "cell_type": "markdown",
   "metadata": {},
   "source": [
    "Now we have our enciphered message. To recover our plaintext, we just use the power mod function again, but this time our base is c, the exponent is d, and the modulus is again n. "
   ]
  },
  {
   "cell_type": "code",
   "execution_count": 10,
   "metadata": {},
   "outputs": [
    {
     "name": "stdout",
     "output_type": "stream",
     "text": [
      "decrypted message: 7332767375693277658472\n",
      "does it match?: True\n"
     ]
    }
   ],
   "source": [
    "decrypted_message = pow(encrypted_message, d, n)\n",
    "print(f'decrypted message: {decrypted_message}')\n",
    "print(f'does it match?: {decrypted_message==large_integer_message}')"
   ]
  },
  {
   "cell_type": "markdown",
   "metadata": {},
   "source": [
    "Finally, let's convert that large integer back into a message"
   ]
  },
  {
   "cell_type": "code",
   "execution_count": 11,
   "metadata": {},
   "outputs": [
    {
     "name": "stdout",
     "output_type": "stream",
     "text": [
      "recovered message: I LIKE MATH\n"
     ]
    }
   ],
   "source": [
    "a = decrypted_message\n",
    "ords = []\n",
    "while a:\n",
    "    ords.append(a % 100)\n",
    "    a //= 100\n",
    "recovered_message = ''.join(reversed([ chr(i) for i in ords ]))\n",
    "print(f'recovered message: {recovered_message}')\n"
   ]
  },
  {
   "cell_type": "code",
   "execution_count": null,
   "metadata": {},
   "outputs": [],
   "source": []
  }
 ],
 "metadata": {
  "kernelspec": {
   "display_name": "Python 3",
   "language": "python",
   "name": "python3"
  },
  "language_info": {
   "codemirror_mode": {
    "name": "ipython",
    "version": 3
   },
   "file_extension": ".py",
   "mimetype": "text/x-python",
   "name": "python",
   "nbconvert_exporter": "python",
   "pygments_lexer": "ipython3",
   "version": "3.6.9"
  }
 },
 "nbformat": 4,
 "nbformat_minor": 2
}
